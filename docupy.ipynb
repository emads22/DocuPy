{
  "nbformat": 4,
  "nbformat_minor": 0,
  "metadata": {
    "colab": {
      "provenance": []
    },
    "kernelspec": {
      "name": "python3",
      "display_name": "Python 3"
    },
    "language_info": {
      "name": "python"
    }
  },
  "cells": [
    {
      "cell_type": "markdown",
      "source": [
        "# **DocuPy**\n",
        "### _\"Automate Documentation, Comments, and Unit Tests for Python Code\"_\n"
      ],
      "metadata": {
        "id": "ykDDGx1cjYlh"
      }
    },
    {
      "cell_type": "code",
      "execution_count": 3,
      "metadata": {
        "id": "6wIpBtNPjXc8",
        "colab": {
          "base_uri": "https://localhost:8080/"
        },
        "outputId": "f1ae157b-b980-47af-fd7d-f0c346594d46"
      },
      "outputs": [
        {
          "output_type": "stream",
          "name": "stdout",
          "text": [
            "\u001b[?25l   \u001b[90m━━━━━━━━━━━━━━━━━━━━━━━━━━━━━━━━━━━━━━━━\u001b[0m \u001b[32m0.0/208.2 kB\u001b[0m \u001b[31m?\u001b[0m eta \u001b[36m-:--:--\u001b[0m\r\u001b[2K   \u001b[90m━━━━━━━━━━━━━━━━━━━━━━━━━━━━━━━━━━━━━━━━\u001b[0m \u001b[32m208.2/208.2 kB\u001b[0m \u001b[31m7.9 MB/s\u001b[0m eta \u001b[36m0:00:00\u001b[0m\n",
            "\u001b[?25h"
          ]
        }
      ],
      "source": [
        "!pip install -q openai anthropic python-dotenv gradio\n"
      ]
    },
    {
      "cell_type": "markdown",
      "source": [
        "## Setup and Install Dependencies\n",
        "\n",
        "- Start by installing all necessary libraries."
      ],
      "metadata": {
        "id": "T-cTBf9amBxf"
      }
    },
    {
      "cell_type": "code",
      "source": [
        "# imports\n",
        "import os\n",
        "import io\n",
        "import sys\n",
        "import subprocess\n",
        "import openai\n",
        "import anthropic\n",
        "import google.generativeai as gemini\n",
        "import gradio as gr\n",
        "from openai import OpenAI\n",
        "from google.colab import userdata"
      ],
      "metadata": {
        "id": "aIHWC7xpk87X"
      },
      "execution_count": 8,
      "outputs": []
    },
    {
      "cell_type": "markdown",
      "source": [
        "## Add Secrets to the Colab Notebook\n",
        "\n",
        "- Add the API keys for OpenAI, Claude, and Gemini to authenticate and access their respective models and services.\n"
      ],
      "metadata": {
        "id": "LZQbXR3dmZy4"
      }
    },
    {
      "cell_type": "code",
      "source": [
        "# Set your API keys\n",
        "gpt = openai.OpenAI(api_key=userdata.get('OPENAI_API_KEY'))\n",
        "claude = anthropic.Anthropic(api_key=userdata.get('ANTHROPIC_API_KEY'))\n",
        "gemini.configure(api_key=userdata.get('GOOGLE_API_KEY'))"
      ],
      "metadata": {
        "id": "AadABekBm4fV"
      },
      "execution_count": 9,
      "outputs": []
    },
    {
      "cell_type": "markdown",
      "source": [
        "## Define Required Constants\n",
        "\n",
        "- Set up the necessary constants that will be used throughout the application.\n"
      ],
      "metadata": {
        "id": "lvEhCuQjrTYu"
      }
    },
    {
      "cell_type": "code",
      "source": [
        "OPENAI_MODEL = \"gpt-4o\"\n",
        "CLAUDE_MODEL = \"claude-3-5-sonnet-20240620\"\n",
        "GEMINI_MODEL = \"gemini-1.5-pro\"\n",
        "\n",
        "PI = \"\"\"\n",
        "import time\n",
        "\n",
        "def calculate(iterations, param1, param2):\n",
        "    result = 1.0\n",
        "    for i in range(1, iterations+1):\n",
        "        j = i * param1 - param2\n",
        "        result -= (1/j)\n",
        "        j = i * param1 + param2\n",
        "        result += (1/j)\n",
        "    return result\n",
        "\n",
        "start_time = time.time()\n",
        "result = calculate(100_000_000, 4, 1) * 4\n",
        "end_time = time.time()\n",
        "\n",
        "print(f\"Result: {result:.12f}\")\n",
        "print(f\"Execution Time: {(end_time - start_time):.6f} seconds\")\n",
        "\"\"\""
      ],
      "metadata": {
        "id": "AKEBKKmAowt2"
      },
      "execution_count": 38,
      "outputs": []
    },
    {
      "cell_type": "markdown",
      "source": [
        "## Create the User Interface (UI) with Gradio\n",
        "\n",
        "- Design an intuitive and user-friendly Gradio interface.\n",
        "- Ensure the UI is simple, responsive, and accessible for seamless interaction.\n",
        "\n",
        "\n"
      ],
      "metadata": {
        "id": "Vude1jzPrgT2"
      }
    },
    {
      "cell_type": "code",
      "source": [
        "css = \"\"\"\n",
        ".python { background-color: #306998; }\n",
        ".cpp { background-color: #050; }\n",
        ".button { height: 4em; font-size: 1.5em; }\n",
        "\"\"\""
      ],
      "metadata": {
        "id": "Eh-sWFZVBb_y"
      },
      "execution_count": 103,
      "outputs": []
    },
    {
      "cell_type": "code",
      "source": [
        "# Tab to Document Code with Docstrings and Comments\n",
        "def docs_comments_ui():\n",
        "    with gr.Tab(\"Docstrings & Comments\"):\n",
        "        gr.Markdown(\"## Document Code with Docstrings and Comments\")\n",
        "        with gr.Row():\n",
        "            python = gr.Textbox(label=\"Python Code:\", value=PI, lines=20)\n",
        "            python_with_comments = gr.TextArea(label=\"Python Code with Docstrings and Comments:\", lines=20, elem_classes=[\"python\"])\n",
        "        with gr.Row():\n",
        "            model = gr.Dropdown([\"GPT\", \"Claude\", \"Gemini\"], label=\"Select Model\", value=\"GPT\")\n",
        "            comments_btn = gr.Button(\"Add Docstrings & Comments\", elem_classes=[\"button\"])\n",
        "\n",
        "        comments_btn.click(lambda python, model: \"DOCSTRINGS AND COMMENTS\", inputs=[python, model], outputs=[python_with_comments])\n",
        ""
      ],
      "metadata": {
        "id": "M_v-j-B_sQHe"
      },
      "execution_count": 104,
      "outputs": []
    },
    {
      "cell_type": "code",
      "source": [
        "# Tab to Generate Comprehensive Unit Tests\n",
        "def unit_tests_ui():\n",
        "    with gr.Tab(\"Unit Tests\"):\n",
        "        gr.Markdown(\"## Generate Comprehensive Unit Tests\")\n",
        "        with gr.Row():\n",
        "            python = gr.Textbox(label=\"Python Ccode:\", value=PI, lines=20)\n",
        "            python_unit_tests = gr.TextArea(label=\"Python Code with Unit Tests:\", lines=20, elem_classes=[\"python\"])\n",
        "        with gr.Row():\n",
        "            model = gr.Dropdown([\"GPT\", \"Claude\", \"Gemini\"], label=\"Select Model\", value=\"GPT\")\n",
        "            unit_tests_btn = gr.Button(\"Generate Unit Tests\", elem_classes=[\"button\"])\n",
        "\n",
        "        unit_tests_btn.click(lambda python, model: \"UNIT TESTS\", inputs=[python, model], outputs=[python_unit_tests])\n",
        ""
      ],
      "metadata": {
        "id": "WDjJp1eXtQzY"
      },
      "execution_count": 108,
      "outputs": []
    },
    {
      "cell_type": "code",
      "source": [
        "# Tab to Convert Python Code to C++\n",
        "def python_to_cpp_ui():\n",
        "    with gr.Tab(\"Python to C++\"):\n",
        "        gr.Markdown(\"## Convert Python Code to C++\")\n",
        "        with gr.Row():\n",
        "            python = gr.Textbox(label=\"Python code:\", value=PI, lines=20)\n",
        "            cpp = gr.Textbox(label=\"C++ code:\", lines=20)\n",
        "        with gr.Row():\n",
        "            model = gr.Dropdown([\"GPT\", \"Claude\", \"Gemini\"], label=\"Select Model\", value=\"GPT\")\n",
        "            convert_btn = gr.Button(\"Convert to C++\", elem_classes=[\"button\"])\n",
        "        with gr.Row():\n",
        "            python_run = gr.Button(\"Run Python\")\n",
        "            cpp_run = gr.Button(\"Run C++\")\n",
        "        with gr.Row():\n",
        "            python_out = gr.TextArea(label=\"Python result:\", lines=10, elem_classes=[\"python\"])  # Apply the 'python' CSS class for custom styling\n",
        "            cpp_out = gr.TextArea(label=\"C++ result:\", lines=10, elem_classes=[\"cpp\"])  # Apply the 'cpp' CSS class for custom styling\n",
        "\n",
        "        convert_btn.click(lambda python, model: \"C++ CODE\", inputs=[python, model], outputs=[cpp])\n",
        "        python_run.click(lambda python: \"PYTHON RUN\", inputs=[python], outputs=[python_out])\n",
        "        cpp_run.click(lambda cpp: \"C++ RUN\", inputs=[cpp], outputs=[cpp_out])"
      ],
      "metadata": {
        "id": "gsVC3BI5tTBW"
      },
      "execution_count": 111,
      "outputs": []
    },
    {
      "cell_type": "code",
      "source": [
        "# Combine the tabs into the main UI\n",
        "with gr.Blocks(css=css) as main_ui:\n",
        "    docs_comments_ui()\n",
        "    unit_tests_ui()\n",
        "    python_to_cpp_ui()\n",
        "\n",
        "# Launch the app\n",
        "main_ui.launch(inbrowser=True)"
      ],
      "metadata": {
        "colab": {
          "base_uri": "https://localhost:8080/",
          "height": 645
        },
        "id": "n8ZdDrOrrbl-",
        "outputId": "50f04c45-148b-4766-bfbb-adb4d1920a49"
      },
      "execution_count": 112,
      "outputs": [
        {
          "output_type": "stream",
          "name": "stdout",
          "text": [
            "Running Gradio in a Colab notebook requires sharing enabled. Automatically setting `share=True` (you can turn this off by setting `share=False` in `launch()` explicitly).\n",
            "\n",
            "Colab notebook detected. To show errors in colab notebook, set debug=True in launch()\n",
            "* Running on public URL: https://2c9a8d60c936e1a2ca.gradio.live\n",
            "\n",
            "This share link expires in 72 hours. For free permanent hosting and GPU upgrades, run `gradio deploy` from the terminal in the working directory to deploy to Hugging Face Spaces (https://huggingface.co/spaces)\n"
          ]
        },
        {
          "output_type": "display_data",
          "data": {
            "text/plain": [
              "<IPython.core.display.HTML object>"
            ],
            "text/html": [
              "<div><iframe src=\"https://2c9a8d60c936e1a2ca.gradio.live\" width=\"100%\" height=\"500\" allow=\"autoplay; camera; microphone; clipboard-read; clipboard-write;\" frameborder=\"0\" allowfullscreen></iframe></div>"
            ]
          },
          "metadata": {}
        },
        {
          "output_type": "execute_result",
          "data": {
            "text/plain": []
          },
          "metadata": {},
          "execution_count": 112
        }
      ]
    },
    {
      "cell_type": "code",
      "source": [],
      "metadata": {
        "id": "bnqgKicCrbZZ"
      },
      "execution_count": null,
      "outputs": []
    }
  ]
}